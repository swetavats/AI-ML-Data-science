{
 "cells": [
  {
   "cell_type": "code",
   "execution_count": 70,
   "metadata": {},
   "outputs": [
    {
     "name": "stdout",
     "output_type": "stream",
     "text": [
      "x.shape = (100, 1) y.shape = (100,)\n",
      "Initial scatter plot\n"
     ]
    },
    {
     "data": {
      "image/png": "[encoded data removed]",
      "text/plain": [
       "<matplotlib.figure.Figure at 0xab6a6d6c>"
      ]
     },
     "metadata": {},
     "output_type": "display_data"
    },
    {
     "name": "stdout",
     "output_type": "stream",
     "text": [
      "Converged successfully\n",
      "theta0 = [-2.84588776] theta1 = [ 43.19804369]\n",
      "Line plot after finding intercept and slope\n"
     ]
    },
    {
     "data": {
      "image/png": "[encoded data removed]",
      "text/plain": [
       "<matplotlib.figure.Figure at 0xabb8f1ac>"
      ]
     },
     "metadata": {},
     "output_type": "display_data"
    }
   ],
   "source": [
    "import numpy as np\n",
    "import random\n",
    "import sklearn\n",
    "from sklearn.datasets.samples_generator import make_regression \n",
    "import pylab\n",
    "from scipy import stats\n",
    "import seaborn as sns\n",
    "import matplotlib.pyplot as plt\n",
    "%matplotlib inline\n",
    "\n",
    "\n",
    "\n",
    "def gradient_descent(alpha,x,y,ep=0.001, max_iter=1000):\n",
    "    converged  = False\n",
    "    iter = 0\n",
    "    m = len(x) #Number of samples\n",
    "    t0 = np.random.random(x.shape[1]) #Initial value of theta0\n",
    "    t1 = np.random.random(x.shape[1]) #Initial value of theta1\n",
    "    \n",
    "    J = sum([(t0 + t1*x[i] - y[i])**2 for i in range(m)]) #Initial Error\n",
    "    \n",
    "    while not converged:\n",
    "        \n",
    "        grad0 = 1.0/m*(sum([(t0+t1*x[i]-y[i]) for i in range(m)]))\n",
    "        grad1 = 1.0/m*(sum([(t0+t1*x[i]-y[i])*x[i] for i in range(m)]))\n",
    "        \n",
    "        t0 = t0 - alpha * grad0\n",
    "        t1 = t1 - alpha * grad1\n",
    "        \n",
    "        e = sum( [ (t0 + t1*x[i] - y[i])**2 for i in range(m)] )\n",
    "        \n",
    "        # Convergence takes place either \n",
    "        # 1)after completing all the iterations or \n",
    "        # 2)if error difference current and prev is less than some value here(0.0001)\n",
    "        \n",
    "        if abs(J-e)<0.0001:\n",
    "            print \"Converged successfully\"\n",
    "            converged = True\n",
    "        \n",
    "        \n",
    "        if iter==max_iter:\n",
    "            converged = True\n",
    "        \n",
    "        J=e\n",
    "        iter+=1\n",
    "        \n",
    "    return t0,t1\n",
    "        \n",
    "    \n",
    "#Dummy dataset\n",
    "x, y = make_regression(n_samples=100, n_features=1, n_informative=1, random_state=0, noise=35) \n",
    "print 'x.shape = %s y.shape = %s' %(x.shape, y.shape)\n",
    "\n",
    "alpha = 0.01\n",
    "ep = 0.01\n",
    "\n",
    "print \"Initial scatter plot\"\n",
    "plt.scatter(x,y)\n",
    "plt.show()\n",
    "\n",
    "theta0, theta1 = gradient_descent(alpha, x, y, ep, max_iter=1000)\n",
    "\n",
    "print 'theta0 = %s theta1 = %s' %(theta0, theta1)\n",
    "\n",
    "print \"Line plot after finding intercept and slope\"\n",
    "\n",
    "plt.scatter(x,y)\n",
    "plt.plot(x, theta0+x*theta1, 'r')\n",
    "plt.show()\n"
   ]
  },
  {
   "cell_type": "code",
   "execution_count": null,
   "metadata": {},
   "outputs": [],
   "source": []
  },
  {
   "cell_type": "code",
   "execution_count": 61,
   "metadata": {
    "collapsed": true
   },
   "outputs": [],
   "source": []
  },
  {
   "cell_type": "code",
   "execution_count": null,
   "metadata": {
    "collapsed": true
   },
   "outputs": [],
   "source": []
  }
 ],
 "metadata": {
  "kernelspec": {
   "display_name": "Python 3",
   "language": "python",
   "name": "python3"
  },
  "language_info": {
   "codemirror_mode": {
    "name": "ipython",
    "version": 3
   },
   "file_extension": ".py",
   "mimetype": "text/x-python",
   "name": "python",
   "nbconvert_exporter": "python",
   "pygments_lexer": "ipython3",
   "version": "3.6.5"
  }
 },
 "nbformat": 4,
 "nbformat_minor": 2
}
